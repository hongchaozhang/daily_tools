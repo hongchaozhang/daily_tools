{
 "cells": [
  {
   "cell_type": "code",
   "execution_count": 28,
   "metadata": {},
   "outputs": [
    {
     "name": "stdout",
     "output_type": "stream",
     "text": [
      "Total time:  28 : 35 : 55\n"
     ]
    }
   ],
   "source": [
    "\n",
    "# read deeplearningcourseinfo.txt line by line\n",
    "# and store the information in a list\n",
    "course_info = []\n",
    "with open('./tempData/deeplearningcourseinfo.txt', 'r') as f:\n",
    "    for line in f:\n",
    "        # explain the following code\n",
    "        course_info.append(line.strip().split('\\t')[0])\n",
    "\n",
    "total_time = 0\n",
    "for info in course_info:\n",
    "    # print(info)\n",
    "    segs = info.split(' ')\n",
    "    time = segs[len(segs) - 1]\n",
    "    times = time.split(':')\n",
    "    mins = times[0]\n",
    "    secs = times[1]\n",
    "    total_time += int(mins) * 60 + int(secs)\n",
    "\n",
    "print('Total time: ', total_time//3600, ':', total_time%3600//60, ':', total_time%3600%60)\n"
   ]
  }
 ],
 "metadata": {
  "kernelspec": {
   "display_name": "dtenv",
   "language": "python",
   "name": "python3"
  },
  "language_info": {
   "name": "python",
   "version": "3.10.3"
  },
  "orig_nbformat": 4
 },
 "nbformat": 4,
 "nbformat_minor": 2
}
