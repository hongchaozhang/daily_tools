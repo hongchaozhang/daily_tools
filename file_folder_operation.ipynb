{
 "cells": [
  {
   "cell_type": "code",
   "execution_count": 41,
   "metadata": {},
   "outputs": [
    {
     "name": "stdout",
     "output_type": "stream",
     "text": [
      "['.DS_Store', '12月']\n"
     ]
    }
   ],
   "source": [
    "#!/usr/local/bin/python\n",
    "# coding: utf-8\n",
    "\n",
    "import os\n",
    "import shutil\n",
    "\n",
    "\n",
    "class FileFolderOperators:\n",
    "    @staticmethod\n",
    "    def move_files():\n",
    "        folder_path = \"/Volumes/Extreme SSD/网络课程/ToLearn/硅谷来信2020\"\n",
    "        sub_folder_path_list = os.listdir(folder_path)\n",
    "        print(sub_folder_path_list)\n",
    "\n",
    "        for path in sub_folder_path_list:\n",
    "            if path != '.DS_Store' and path != '._.DS_Store' and path != 'mp3' and path != 'mp4':\n",
    "                sub_folder_full_path = folder_path + '/' + path\n",
    "                file_list = os.listdir(sub_folder_full_path)\n",
    "                for file in file_list:\n",
    "                    if file.endswith('.mp3') and not file.startswith('._'):\n",
    "                        print(file)\n",
    "                        shutil.move(folder_path + '/' + path + '/' + file, folder_path + '/mp3/' + file)\n",
    "\n",
    "    @staticmethod\n",
    "    def traverse_files():\n",
    "        folder_path = \"/Users/hozhang/Documents/听/计算机/53-程序员的数学基础课\"\n",
    "        sub_folder_path_list = os.listdir(folder_path)\n",
    "        sub_folder_path_list.sort()\n",
    "\n",
    "        for path in sub_folder_path_list:\n",
    "            if path != '.DS_Store' and path != 'mp3' and path != 'mp4':\n",
    "                print('## ' + path)\n",
    "                sub_folder_full_path = folder_path + '/' + path\n",
    "                file_list = os.listdir(sub_folder_full_path)\n",
    "                file_list.sort()\n",
    "                for file in file_list:\n",
    "                    if file.endswith('.html'):\n",
    "                        file_name = file.replace('.html', '')\n",
    "                        print('### ' + file_name)\n",
    "\n",
    "    @staticmethod\n",
    "    def rename_files():\n",
    "        folder_path = \"/Users/hozhang/Downloads/wj吴军世界文明史/2022\"\n",
    "        sub_folder_path_list = os.listdir(folder_path)\n",
    "        print(sub_folder_path_list)\n",
    "\n",
    "        for sub_folder_path in sub_folder_path_list:\n",
    "            if '.DS_Store' != sub_folder_path and '._.DS_Store' != sub_folder_path:\n",
    "                sub_folder_path_full = folder_path + '/' + sub_folder_path\n",
    "                file_list = os.listdir(sub_folder_path_full)\n",
    "                os.chdir(sub_folder_path_full)\n",
    "                for old_name in file_list:\n",
    "                    if '._' not in old_name:\n",
    "                        new_name = '2021年-' + sub_folder_path + '-' + old_name\n",
    "                        print(new_name)\n",
    "                        os.rename(old_name, new_name)\n",
    "\n",
    "        # os.chdir(folder_path)\n",
    "        # for old_name in file_list:\n",
    "        #     if old_name.endswith(\".mp3\"):\n",
    "        #         new_name = old_name\n",
    "        #         if old_name.index('.') == 1:\n",
    "        #             new_name = '0' + old_name\n",
    "        #             print(old_name)\n",
    "        #             print(new_name)\n",
    "                    # os.rename(old_name, new_name)\n",
    "\n",
    "FileFolderOperators.rename_files()\n"
   ]
  },
  {
   "cell_type": "code",
   "execution_count": null,
   "metadata": {},
   "outputs": [],
   "source": [
    "def list_folders(folder_path):\n",
    "    sub_folder_path_list = os.listdir(folder_path)\n",
    "    sub_folder_path_list.sort()\n",
    "    \n",
    "    filtered_subpaths = []\n",
    "\n",
    "    for path in sub_folder_path_list:\n",
    "        if path != '.DS_Store':\n",
    "            filtered_subpaths.append(path)\n",
    "    print(filtered_subpaths)\n",
    "\n",
    "war_path = '/Users/hozhang/Develop/Tomcat/webapps/web-dossier-11.3.0830.00684'\n",
    "list_folders(war_path)\n"
   ]
  }
 ],
 "metadata": {
  "kernelspec": {
   "display_name": "Python 3.8.13 ('aienv')",
   "language": "python",
   "name": "python3"
  },
  "language_info": {
   "codemirror_mode": {
    "name": "ipython",
    "version": 3
   },
   "file_extension": ".py",
   "mimetype": "text/x-python",
   "name": "python",
   "nbconvert_exporter": "python",
   "pygments_lexer": "ipython3",
   "version": "3.8.13"
  },
  "orig_nbformat": 4,
  "vscode": {
   "interpreter": {
    "hash": "e5f6aa858bf43a6263b3e4e7a86e73c5cea5219fd50582acbb52e14030ac14aa"
   }
  }
 },
 "nbformat": 4,
 "nbformat_minor": 2
}
