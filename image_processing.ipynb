{
 "cells": [
  {
   "attachments": {},
   "cell_type": "markdown",
   "metadata": {},
   "source": [
    "## Crop Images in a folder"
   ]
  },
  {
   "cell_type": "code",
   "execution_count": 8,
   "metadata": {},
   "outputs": [
    {
     "name": "stdout",
     "output_type": "stream",
     "text": [
      "Screenshot 2023-03-16 at 22.43.32.png\n",
      "Screenshot 2023-03-16 at 22.43.50.png\n",
      "Screenshot 2023-03-16 at 22.44.20.png\n",
      "Screenshot 2023-03-16 at 22.44.46.png\n",
      "Screenshot 2023-03-16 at 22.45.11.png\n",
      "Screenshot 2023-03-16 at 22.45.43.png\n",
      "Screenshot 2023-03-16 at 22.46.07.png\n",
      "Screenshot 2023-03-16 at 22.46.31.png\n",
      "Screenshot 2023-03-16 at 22.46.39.png\n",
      "Screenshot 2023-03-16 at 22.46.47.png\n",
      "Screenshot 2023-03-16 at 22.47.10.png\n",
      "Screenshot 2023-03-16 at 22.47.21.png\n"
     ]
    }
   ],
   "source": [
    "from PIL import Image\n",
    "import os\n",
    "\n",
    "image_path = '/Users/hozhang/Develop/PracticeProjects/MachineLearning/ML2022Spring-李宏毅/ExplainableML/'\n",
    "image_name = 'Screenshot 2023-03-15 at 22.33.50.png'\n",
    "save_path = '/Users/hozhang/Develop/PracticeProjects/MachineLearning/ML2022Spring-李宏毅/'\n",
    "\n",
    "\n",
    "file_list = os.listdir(image_path)\n",
    "# file_list = images\n",
    "file_list.sort()\n",
    "for file in file_list:\n",
    "    if file.endswith('png'):\n",
    "        print(file)    \n",
    "        im = Image.open(image_path + file)\n",
    "\n",
    "        # Size of the image in pixels (size of original image)\n",
    "        # (This is not mandatory)\n",
    "        width, height = im.size\n",
    "        \n",
    "        # Setting the points for cropped image\n",
    "        left = 460\n",
    "        top = 210\n",
    "        right = width - 330\n",
    "        bottom = height\n",
    "        \n",
    "        # Cropped image of above dimension\n",
    "        # (It will not change original image)\n",
    "        im1 = im.crop((left, top, right, bottom))\n",
    "\n",
    "        im1.save(save_path + file)"
   ]
  }
 ],
 "metadata": {
  "kernelspec": {
   "display_name": "venv_daily_tools",
   "language": "python",
   "name": "python3"
  },
  "language_info": {
   "codemirror_mode": {
    "name": "ipython",
    "version": 3
   },
   "file_extension": ".py",
   "mimetype": "text/x-python",
   "name": "python",
   "nbconvert_exporter": "python",
   "pygments_lexer": "ipython3",
   "version": "3.8.13"
  },
  "orig_nbformat": 4
 },
 "nbformat": 4,
 "nbformat_minor": 2
}
