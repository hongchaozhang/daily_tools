{
 "cells": [
  {
   "attachments": {},
   "cell_type": "markdown",
   "metadata": {},
   "source": [
    "## Crop Images in a folder"
   ]
  },
  {
   "cell_type": "code",
   "execution_count": 16,
   "metadata": {},
   "outputs": [
    {
     "name": "stdout",
     "output_type": "stream",
     "text": [
      "Screenshot 2023-05-10 at 22.55.11.png\n",
      "Screenshot 2023-05-10 at 22.55.31.png\n",
      "Screenshot 2023-05-10 at 22.56.25.png\n",
      "Screenshot 2023-05-10 at 22.56.57.png\n",
      "Screenshot 2023-05-10 at 22.59.26.png\n",
      "Screenshot 2023-05-10 at 23.00.36.png\n",
      "Screenshot 2023-05-10 at 23.00.43.png\n",
      "Screenshot 2023-05-10 at 23.01.07.png\n",
      "Screenshot 2023-05-10 at 23.02.12.png\n",
      "Screenshot 2023-05-10 at 23.04.14.png\n",
      "Screenshot 2023-05-10 at 23.08.06.png\n",
      "Screenshot 2023-05-10 at 23.10.52.png\n"
     ]
    }
   ],
   "source": [
    "from PIL import Image\n",
    "import os\n",
    "\n",
    "image_path = '/Users/hozhang/Desktop/temp/demo/'\n",
    "image_name = 'Screenshot 2023-05-04 at 22.49.12.png'\n",
    "save_path = '/Users/hozhang/Desktop/temp/demo/'\n",
    "\n",
    "\n",
    "file_list = os.listdir(image_path)\n",
    "# file_list = images\n",
    "file_list.sort()\n",
    "for file in file_list:\n",
    "    if file.endswith('png'):\n",
    "        print(file)    \n",
    "        im = Image.open(image_path + file)\n",
    "\n",
    "        # Size of the image in pixels (size of original image)\n",
    "        # (This is not mandatory)\n",
    "        width, height = im.size\n",
    "        \n",
    "        # Setting the points for cropped image\n",
    "        left = 0\n",
    "        top = 160\n",
    "        right = width\n",
    "        bottom = height - 92\n",
    "        \n",
    "        # Cropped image of above dimension\n",
    "        # (It will not change original image)\n",
    "        im1 = im.crop((left, top, right, bottom))\n",
    "\n",
    "        new_width, new_height = im1.size\n",
    "\n",
    "        im2 = im1.resize(size=(int(new_width/2), int(new_height/2)))\n",
    "\n",
    "        # jpg_filename = file.replace('.png', '.jpg')\n",
    "\n",
    "        im2.save(save_path + file)"
   ]
  }
 ],
 "metadata": {
  "kernelspec": {
   "display_name": "venv_daily_tools",
   "language": "python",
   "name": "python3"
  },
  "language_info": {
   "codemirror_mode": {
    "name": "ipython",
    "version": 3
   },
   "file_extension": ".py",
   "mimetype": "text/x-python",
   "name": "python",
   "nbconvert_exporter": "python",
   "pygments_lexer": "ipython3",
   "version": "3.10.3"
  },
  "orig_nbformat": 4
 },
 "nbformat": 4,
 "nbformat_minor": 2
}
