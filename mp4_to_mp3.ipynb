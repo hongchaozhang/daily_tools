{
 "cells": [
  {
   "cell_type": "code",
   "execution_count": 5,
   "metadata": {},
   "outputs": [
    {
     "ename": "RuntimeError",
     "evalue": "No ffmpeg exe could be found. Install ffmpeg on your system, or set the IMAGEIO_FFMPEG_EXE environment variable.",
     "output_type": "error",
     "traceback": [
      "\u001b[0;31m---------------------------------------------------------------------------\u001b[0m",
      "\u001b[0;31mRuntimeError\u001b[0m                              Traceback (most recent call last)",
      "Cell \u001b[0;32mIn[5], line 3\u001b[0m\n\u001b[1;32m      1\u001b[0m \u001b[39m#!/usr/local/bin/python\u001b[39;00m\n\u001b[0;32m----> 3\u001b[0m \u001b[39mfrom\u001b[39;00m \u001b[39mmoviepy\u001b[39;00m\u001b[39m.\u001b[39;00m\u001b[39meditor\u001b[39;00m \u001b[39mimport\u001b[39;00m \u001b[39m*\u001b[39m\n\u001b[1;32m      4\u001b[0m \u001b[39mimport\u001b[39;00m \u001b[39mos\u001b[39;00m\n\u001b[1;32m      7\u001b[0m \u001b[39mdef\u001b[39;00m \u001b[39mdemo\u001b[39m():\n",
      "File \u001b[0;32m~/Develop/PracticeProjects/DailyTools/dtenv/lib/python3.10/site-packages/moviepy/editor.py:36\u001b[0m\n\u001b[1;32m     33\u001b[0m os\u001b[39m.\u001b[39menviron[\u001b[39m'\u001b[39m\u001b[39mPYGAME_HIDE_SUPPORT_PROMPT\u001b[39m\u001b[39m'\u001b[39m] \u001b[39m=\u001b[39m \u001b[39m\"\u001b[39m\u001b[39m1\u001b[39m\u001b[39m\"\u001b[39m\n\u001b[1;32m     35\u001b[0m \u001b[39m# Clips\u001b[39;00m\n\u001b[0;32m---> 36\u001b[0m \u001b[39mfrom\u001b[39;00m \u001b[39m.\u001b[39;00m\u001b[39mvideo\u001b[39;00m\u001b[39m.\u001b[39;00m\u001b[39mio\u001b[39;00m\u001b[39m.\u001b[39;00m\u001b[39mVideoFileClip\u001b[39;00m \u001b[39mimport\u001b[39;00m VideoFileClip\n\u001b[1;32m     37\u001b[0m \u001b[39mfrom\u001b[39;00m \u001b[39m.\u001b[39;00m\u001b[39mvideo\u001b[39;00m\u001b[39m.\u001b[39;00m\u001b[39mio\u001b[39;00m\u001b[39m.\u001b[39;00m\u001b[39mImageSequenceClip\u001b[39;00m \u001b[39mimport\u001b[39;00m ImageSequenceClip\n\u001b[1;32m     38\u001b[0m \u001b[39mfrom\u001b[39;00m \u001b[39m.\u001b[39;00m\u001b[39mvideo\u001b[39;00m\u001b[39m.\u001b[39;00m\u001b[39mio\u001b[39;00m\u001b[39m.\u001b[39;00m\u001b[39mdownloader\u001b[39;00m \u001b[39mimport\u001b[39;00m download_webfile\n",
      "File \u001b[0;32m~/Develop/PracticeProjects/DailyTools/dtenv/lib/python3.10/site-packages/moviepy/video/io/VideoFileClip.py:3\u001b[0m\n\u001b[1;32m      1\u001b[0m \u001b[39mimport\u001b[39;00m \u001b[39mos\u001b[39;00m\n\u001b[0;32m----> 3\u001b[0m \u001b[39mfrom\u001b[39;00m \u001b[39mmoviepy\u001b[39;00m\u001b[39m.\u001b[39;00m\u001b[39maudio\u001b[39;00m\u001b[39m.\u001b[39;00m\u001b[39mio\u001b[39;00m\u001b[39m.\u001b[39;00m\u001b[39mAudioFileClip\u001b[39;00m \u001b[39mimport\u001b[39;00m AudioFileClip\n\u001b[1;32m      4\u001b[0m \u001b[39mfrom\u001b[39;00m \u001b[39mmoviepy\u001b[39;00m\u001b[39m.\u001b[39;00m\u001b[39mClip\u001b[39;00m \u001b[39mimport\u001b[39;00m Clip\n\u001b[1;32m      5\u001b[0m \u001b[39mfrom\u001b[39;00m \u001b[39mmoviepy\u001b[39;00m\u001b[39m.\u001b[39;00m\u001b[39mvideo\u001b[39;00m\u001b[39m.\u001b[39;00m\u001b[39mio\u001b[39;00m\u001b[39m.\u001b[39;00m\u001b[39mffmpeg_reader\u001b[39;00m \u001b[39mimport\u001b[39;00m FFMPEG_VideoReader\n",
      "File \u001b[0;32m~/Develop/PracticeProjects/DailyTools/dtenv/lib/python3.10/site-packages/moviepy/audio/io/AudioFileClip.py:3\u001b[0m\n\u001b[1;32m      1\u001b[0m \u001b[39mfrom\u001b[39;00m \u001b[39m__future__\u001b[39;00m \u001b[39mimport\u001b[39;00m division\n\u001b[0;32m----> 3\u001b[0m \u001b[39mfrom\u001b[39;00m \u001b[39mmoviepy\u001b[39;00m\u001b[39m.\u001b[39;00m\u001b[39maudio\u001b[39;00m\u001b[39m.\u001b[39;00m\u001b[39mAudioClip\u001b[39;00m \u001b[39mimport\u001b[39;00m AudioClip\n\u001b[1;32m      4\u001b[0m \u001b[39mfrom\u001b[39;00m \u001b[39mmoviepy\u001b[39;00m\u001b[39m.\u001b[39;00m\u001b[39maudio\u001b[39;00m\u001b[39m.\u001b[39;00m\u001b[39mio\u001b[39;00m\u001b[39m.\u001b[39;00m\u001b[39mreaders\u001b[39;00m \u001b[39mimport\u001b[39;00m FFMPEG_AudioReader\n\u001b[1;32m      7\u001b[0m \u001b[39mclass\u001b[39;00m \u001b[39mAudioFileClip\u001b[39;00m(AudioClip):\n",
      "File \u001b[0;32m~/Develop/PracticeProjects/DailyTools/dtenv/lib/python3.10/site-packages/moviepy/audio/AudioClip.py:7\u001b[0m\n\u001b[1;32m      4\u001b[0m \u001b[39mimport\u001b[39;00m \u001b[39mproglog\u001b[39;00m\n\u001b[1;32m      5\u001b[0m \u001b[39mfrom\u001b[39;00m \u001b[39mtqdm\u001b[39;00m \u001b[39mimport\u001b[39;00m tqdm\n\u001b[0;32m----> 7\u001b[0m \u001b[39mfrom\u001b[39;00m \u001b[39mmoviepy\u001b[39;00m\u001b[39m.\u001b[39;00m\u001b[39maudio\u001b[39;00m\u001b[39m.\u001b[39;00m\u001b[39mio\u001b[39;00m\u001b[39m.\u001b[39;00m\u001b[39mffmpeg_audiowriter\u001b[39;00m \u001b[39mimport\u001b[39;00m ffmpeg_audiowrite\n\u001b[1;32m      8\u001b[0m \u001b[39mfrom\u001b[39;00m \u001b[39mmoviepy\u001b[39;00m\u001b[39m.\u001b[39;00m\u001b[39mClip\u001b[39;00m \u001b[39mimport\u001b[39;00m Clip\n\u001b[1;32m      9\u001b[0m \u001b[39mfrom\u001b[39;00m \u001b[39mmoviepy\u001b[39;00m\u001b[39m.\u001b[39;00m\u001b[39mdecorators\u001b[39;00m \u001b[39mimport\u001b[39;00m requires_duration\n",
      "File \u001b[0;32m~/Develop/PracticeProjects/DailyTools/dtenv/lib/python3.10/site-packages/moviepy/audio/io/ffmpeg_audiowriter.py:7\u001b[0m\n\u001b[1;32m      4\u001b[0m \u001b[39mimport\u001b[39;00m \u001b[39mproglog\u001b[39;00m\n\u001b[1;32m      6\u001b[0m \u001b[39mfrom\u001b[39;00m \u001b[39mmoviepy\u001b[39;00m\u001b[39m.\u001b[39;00m\u001b[39mcompat\u001b[39;00m \u001b[39mimport\u001b[39;00m DEVNULL\n\u001b[0;32m----> 7\u001b[0m \u001b[39mfrom\u001b[39;00m \u001b[39mmoviepy\u001b[39;00m\u001b[39m.\u001b[39;00m\u001b[39mconfig\u001b[39;00m \u001b[39mimport\u001b[39;00m get_setting\n\u001b[1;32m      8\u001b[0m \u001b[39mfrom\u001b[39;00m \u001b[39mmoviepy\u001b[39;00m\u001b[39m.\u001b[39;00m\u001b[39mdecorators\u001b[39;00m \u001b[39mimport\u001b[39;00m requires_duration\n\u001b[1;32m     11\u001b[0m \u001b[39mclass\u001b[39;00m \u001b[39mFFMPEG_AudioWriter\u001b[39;00m:\n",
      "File \u001b[0;32m~/Develop/PracticeProjects/DailyTools/dtenv/lib/python3.10/site-packages/moviepy/config.py:36\u001b[0m\n\u001b[1;32m     34\u001b[0m \u001b[39mif\u001b[39;00m FFMPEG_BINARY\u001b[39m==\u001b[39m\u001b[39m'\u001b[39m\u001b[39mffmpeg-imageio\u001b[39m\u001b[39m'\u001b[39m:\n\u001b[1;32m     35\u001b[0m     \u001b[39mfrom\u001b[39;00m \u001b[39mimageio\u001b[39;00m\u001b[39m.\u001b[39;00m\u001b[39mplugins\u001b[39;00m\u001b[39m.\u001b[39;00m\u001b[39mffmpeg\u001b[39;00m \u001b[39mimport\u001b[39;00m get_exe\n\u001b[0;32m---> 36\u001b[0m     FFMPEG_BINARY \u001b[39m=\u001b[39m get_exe()\n\u001b[1;32m     38\u001b[0m \u001b[39melif\u001b[39;00m FFMPEG_BINARY\u001b[39m==\u001b[39m\u001b[39m'\u001b[39m\u001b[39mauto-detect\u001b[39m\u001b[39m'\u001b[39m:\n\u001b[1;32m     40\u001b[0m     \u001b[39mif\u001b[39;00m try_cmd([\u001b[39m'\u001b[39m\u001b[39mffmpeg\u001b[39m\u001b[39m'\u001b[39m])[\u001b[39m0\u001b[39m]:\n",
      "File \u001b[0;32m~/Develop/PracticeProjects/DailyTools/dtenv/lib/python3.10/site-packages/imageio/plugins/ffmpeg.py:173\u001b[0m, in \u001b[0;36mget_exe\u001b[0;34m()\u001b[0m\n\u001b[1;32m    170\u001b[0m \u001b[39mdef\u001b[39;00m \u001b[39mget_exe\u001b[39m():  \u001b[39m# pragma: no cover\u001b[39;00m\n\u001b[1;32m    171\u001b[0m \u001b[39m    \u001b[39m\u001b[39m\"\"\"Wrapper for imageio_ffmpeg.get_ffmpeg_exe()\"\"\"\u001b[39;00m\n\u001b[0;32m--> 173\u001b[0m     \u001b[39mreturn\u001b[39;00m imageio_ffmpeg\u001b[39m.\u001b[39;49mget_ffmpeg_exe()\n",
      "File \u001b[0;32m~/Develop/PracticeProjects/DailyTools/dtenv/lib/python3.10/site-packages/imageio_ffmpeg/_utils.py:33\u001b[0m, in \u001b[0;36mget_ffmpeg_exe\u001b[0;34m()\u001b[0m\n\u001b[1;32m     30\u001b[0m     \u001b[39mreturn\u001b[39;00m exe\n\u001b[1;32m     32\u001b[0m \u001b[39m# Nothing was found\u001b[39;00m\n\u001b[0;32m---> 33\u001b[0m \u001b[39mraise\u001b[39;00m \u001b[39mRuntimeError\u001b[39;00m(\n\u001b[1;32m     34\u001b[0m     \u001b[39m\"\u001b[39m\u001b[39mNo ffmpeg exe could be found. Install ffmpeg on your system, \u001b[39m\u001b[39m\"\u001b[39m\n\u001b[1;32m     35\u001b[0m     \u001b[39m\"\u001b[39m\u001b[39mor set the IMAGEIO_FFMPEG_EXE environment variable.\u001b[39m\u001b[39m\"\u001b[39m\n\u001b[1;32m     36\u001b[0m )\n",
      "\u001b[0;31mRuntimeError\u001b[0m: No ffmpeg exe could be found. Install ffmpeg on your system, or set the IMAGEIO_FFMPEG_EXE environment variable."
     ]
    }
   ],
   "source": [
    "#!/usr/local/bin/python\n",
    "\n",
    "os.environ[\"IMAGEIO_FFMPEG_EXE\"] = \"/opt/homebrew/bin/ffmpeg\"\n",
    "from moviepy.editor import *\n",
    "import os\n",
    "\n",
    "\n",
    "def demo():\n",
    "    mp4_folder_path = '/Users/hozhang/Downloads/经济学原理/mp4'\n",
    "    mp3_folder_path = '/Users/hozhang/Downloads/经济学原理/mp3'\n",
    "    mp4_file_list = os.listdir(mp4_folder_path)\n",
    "    mp3_file_list = os.listdir(mp3_folder_path)\n",
    "\n",
    "    file_index = 1\n",
    "    for mp4_file in mp4_file_list:\n",
    "        print(str(file_index) + ' of ' + str(len(mp4_file_list)))\n",
    "        if mp4_file.endswith('mp4'):\n",
    "            # print mp4_file\n",
    "            mp3_file = mp4_file.replace('mp4', 'mp3')\n",
    "\n",
    "            if mp3_file not in mp3_file_list:\n",
    "                # print mp3_file\n",
    "                full_mp4_file_path = mp4_folder_path + '/' + mp4_file\n",
    "                full_mp3_file_path = mp3_folder_path + '/' + mp3_file\n",
    "                print(full_mp3_file_path)\n",
    "                # print full_mp4_file_path\n",
    "                videoclip = VideoFileClip(full_mp4_file_path)\n",
    "                audioclip = videoclip.audio\n",
    "                audioclip.write_audiofile(full_mp3_file_path, bitrate=\"44K\")\n",
    "                audioclip.close()\n",
    "                videoclip.close()\n",
    "\n",
    "\n",
    "# mp4_file = '/Users/hozhang/Documents/听/计算机/testFolder/test.mp4'\n",
    "# mp3_file = '/Users/hozhang/Documents/听/计算机/testFolder/test44.mp3'\n",
    "#\n",
    "# videoclip = VideoFileClip(mp4_file)\n",
    "# audioclip = videoclip.audio\n",
    "# audioclip.write_audiofile(mp3_file, bitrate=\"44K\")\n",
    "# audioclip.close()\n",
    "# videoclip.close()"
   ]
  }
 ],
 "metadata": {
  "kernelspec": {
   "display_name": "Python 3.8.13 ('venv_daily_tools': venv)",
   "language": "python",
   "name": "python3"
  },
  "language_info": {
   "codemirror_mode": {
    "name": "ipython",
    "version": 3
   },
   "file_extension": ".py",
   "mimetype": "text/x-python",
   "name": "python",
   "nbconvert_exporter": "python",
   "pygments_lexer": "ipython3",
   "version": "3.10.3"
  },
  "orig_nbformat": 4,
  "vscode": {
   "interpreter": {
    "hash": "adedc8d58c37b796c83d01b7d9150c9435145c328f66326f0068a1067cc16a6c"
   }
  }
 },
 "nbformat": 4,
 "nbformat_minor": 2
}
