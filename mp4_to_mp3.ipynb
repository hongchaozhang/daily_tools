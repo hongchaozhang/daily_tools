{
 "cells": [
  {
   "cell_type": "code",
   "execution_count": null,
   "metadata": {},
   "outputs": [],
   "source": [
    "#!/usr/local/bin/python\n",
    "\n",
    "from moviepy.editor import *\n",
    "import os\n",
    "\n",
    "\n",
    "def demo():\n",
    "    mp4_folder_path = '/Users/hozhang/Downloads/经济学原理/mp4'\n",
    "    mp3_folder_path = '/Users/hozhang/Downloads/经济学原理/mp3'\n",
    "    mp4_file_list = os.listdir(mp4_folder_path)\n",
    "    mp3_file_list = os.listdir(mp3_folder_path)\n",
    "\n",
    "    file_index = 1\n",
    "    for mp4_file in mp4_file_list:\n",
    "        print(str(file_index) + ' of ' + str(len(mp4_file_list)))\n",
    "        if mp4_file.endswith('mp4'):\n",
    "            # print mp4_file\n",
    "            mp3_file = mp4_file.replace('mp4', 'mp3')\n",
    "\n",
    "            if mp3_file not in mp3_file_list:\n",
    "                # print mp3_file\n",
    "                full_mp4_file_path = mp4_folder_path + '/' + mp4_file\n",
    "                full_mp3_file_path = mp3_folder_path + '/' + mp3_file\n",
    "                print(full_mp3_file_path)\n",
    "                # print full_mp4_file_path\n",
    "                videoclip = VideoFileClip(full_mp4_file_path)\n",
    "                audioclip = videoclip.audio\n",
    "                audioclip.write_audiofile(full_mp3_file_path, bitrate=\"44K\")\n",
    "                audioclip.close()\n",
    "                videoclip.close()\n",
    "\n",
    "\n",
    "# mp4_file = '/Users/hozhang/Documents/听/计算机/testFolder/test.mp4'\n",
    "# mp3_file = '/Users/hozhang/Documents/听/计算机/testFolder/test44.mp3'\n",
    "#\n",
    "# videoclip = VideoFileClip(mp4_file)\n",
    "# audioclip = videoclip.audio\n",
    "# audioclip.write_audiofile(mp3_file, bitrate=\"44K\")\n",
    "# audioclip.close()\n",
    "# videoclip.close()"
   ]
  }
 ],
 "metadata": {
  "kernelspec": {
   "display_name": "Python 3.8.13 ('venv_daily_tools': venv)",
   "language": "python",
   "name": "python3"
  },
  "language_info": {
   "name": "python",
   "version": "3.8.13"
  },
  "orig_nbformat": 4,
  "vscode": {
   "interpreter": {
    "hash": "adedc8d58c37b796c83d01b7d9150c9435145c328f66326f0068a1067cc16a6c"
   }
  }
 },
 "nbformat": 4,
 "nbformat_minor": 2
}
