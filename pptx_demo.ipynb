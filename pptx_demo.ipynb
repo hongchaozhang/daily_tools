{
 "cells": [
  {
   "cell_type": "code",
   "execution_count": 1,
   "metadata": {},
   "outputs": [],
   "source": [
    "from pptx import Presentation\n",
    "\n",
    "prs = Presentation()\n",
    "title_slide_layout = prs.slide_layouts[0]\n",
    "slide = prs.slides.add_slide(title_slide_layout)\n",
    "title = slide.shapes.title\n",
    "subtitle = slide.placeholders[1]\n",
    "\n",
    "title.text = \"Hello, World!\"\n",
    "subtitle.text = \"python-pptx was here!\"\n",
    "\n",
    "prs.save('text.pptx')"
   ]
  },
  {
   "cell_type": "markdown",
   "metadata": {},
   "source": [
    "## Generate ppt from a folder of images. One image, one slide"
   ]
  },
  {
   "cell_type": "code",
   "execution_count": 9,
   "metadata": {},
   "outputs": [
    {
     "name": "stdout",
     "output_type": "stream",
     "text": [
      "Screenshot 2023-03-16 at 22.43.32.png\n",
      "Screenshot 2023-03-16 at 22.43.50.png\n",
      "Screenshot 2023-03-16 at 22.44.20.png\n",
      "Screenshot 2023-03-16 at 22.44.46.png\n",
      "Screenshot 2023-03-16 at 22.45.11.png\n",
      "Screenshot 2023-03-16 at 22.45.43.png\n",
      "Screenshot 2023-03-16 at 22.46.07.png\n",
      "Screenshot 2023-03-16 at 22.46.31.png\n",
      "Screenshot 2023-03-16 at 22.46.39.png\n",
      "Screenshot 2023-03-16 at 22.46.47.png\n",
      "Screenshot 2023-03-16 at 22.47.10.png\n",
      "Screenshot 2023-03-16 at 22.47.21.png\n"
     ]
    }
   ],
   "source": [
    "from pptx import Presentation\n",
    "from pptx.util import Inches\n",
    "import os\n",
    "\n",
    "path = '/Users/hozhang/Develop/PracticeProjects/MachineLearning/ML2022Spring-李宏毅/ExplainableML/'\n",
    "images = ['Screenshot 2023-03-15 at 23.32.10.png', 'Screenshot 2023-03-15 at 23.32.37.png', 'Screenshot 2023-03-15 at 23.34.01.png']\n",
    "\n",
    "file_list = os.listdir(path)\n",
    "# file_list = images\n",
    "file_list.sort()\n",
    "for file in file_list:\n",
    "    if file.endswith('png'):\n",
    "        print(file)    \n",
    "\n",
    "width = Inches(4.991)\n",
    "height = Inches(3.74)\n",
    "\n",
    "prs = Presentation()\n",
    "prs.slide_height = height\n",
    "prs.slide_width = width\n",
    "blank_slide_layout = prs.slide_layouts[6]\n",
    "\n",
    "left = top = Inches(0)\n",
    "for image in file_list:\n",
    "    if image.endswith('.png'):\n",
    "        slide = prs.slides.add_slide(blank_slide_layout)\n",
    "        pic = slide.shapes.add_picture(path + image, left, top, width, height)\n",
    "\n",
    "prs.save('/Users/hozhang/Develop/PracticeProjects/MachineLearning/ML2022Spring-李宏毅/image.pptx')"
   ]
  }
 ],
 "metadata": {
  "kernelspec": {
   "display_name": "Python 3.8.13 ('venv_daily_tools': venv)",
   "language": "python",
   "name": "python3"
  },
  "language_info": {
   "codemirror_mode": {
    "name": "ipython",
    "version": 3
   },
   "file_extension": ".py",
   "mimetype": "text/x-python",
   "name": "python",
   "nbconvert_exporter": "python",
   "pygments_lexer": "ipython3",
   "version": "3.8.13"
  },
  "orig_nbformat": 4,
  "vscode": {
   "interpreter": {
    "hash": "adedc8d58c37b796c83d01b7d9150c9435145c328f66326f0068a1067cc16a6c"
   }
  }
 },
 "nbformat": 4,
 "nbformat_minor": 2
}
