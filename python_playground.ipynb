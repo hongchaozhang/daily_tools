{
 "cells": [
  {
   "cell_type": "markdown",
   "metadata": {},
   "source": [
    "# List Comprehension\n",
    "`newlist = [expression for item in iterable if condition == True]`"
   ]
  },
  {
   "cell_type": "code",
   "execution_count": 23,
   "metadata": {},
   "outputs": [
    {
     "name": "stdout",
     "output_type": "stream",
     "text": [
      "[0, 1, 1, 2, 2, 3]\n",
      "[[[0, 0], [0, 0], [0, 0]], [[0, 0], [0, 0], [0, 0]]]\n",
      "[2, 2, 3]\n",
      "[0, 1, 1, 4, 4, 6]\n"
     ]
    }
   ],
   "source": [
    "a_list = [i+j for i in range(3) for j in range(2)]\n",
    "print(a_list) # [0, 1, 1, 2, 2, 3]\n",
    "\n",
    "multi_dimension = [[[0]*2 for i in range(3)] for j in range(2)]\n",
    "print(multi_dimension) # dimension: 2*3*2\n",
    "\n",
    "# newlist = [expression for item in iterable if condition == True]\n",
    "b_list = [item for item in a_list if item > 1]\n",
    "print(b_list)\n",
    "\n",
    "c_list = [item*2 if item > 1 else item for item in a_list]\n",
    "print(c_list)"
   ]
  },
  {
   "cell_type": "code",
   "execution_count": 25,
   "metadata": {},
   "outputs": [
    {
     "name": "stdout",
     "output_type": "stream",
     "text": [
      "[0, 1, 1, 2, 2, 3]\n",
      "[1, 2, 3]\n"
     ]
    }
   ],
   "source": [
    "a_list = [i+j for i in range(3) for j in range(2)]\n",
    "print(a_list) # [0, 1, 1, 2, 2, 3]\n",
    "\n",
    "flags = [0, 1, 0, 1, 0, 1]\n",
    "\n",
    "b_list = [a_list[i] for i in range(len(a_list)) if flags[i] == 1]\n",
    "print(b_list)"
   ]
  },
  {
   "cell_type": "markdown",
   "metadata": {},
   "source": [
    "# Numpy"
   ]
  },
  {
   "cell_type": "code",
   "execution_count": 32,
   "metadata": {},
   "outputs": [
    {
     "name": "stdout",
     "output_type": "stream",
     "text": [
      "[0 1 2 3 4]\n",
      "[1 2 3 4 5]\n",
      "2.23606797749979\n"
     ]
    }
   ],
   "source": [
    "import numpy as np\n",
    "\n",
    "a = np.array([0, 1, 2, 3, 4])\n",
    "print(a)\n",
    "\n",
    "b = np.array([1, 2, 3, 4, 5])\n",
    "print(b)\n",
    "\n",
    "dis_ab = np.dot(a-b, a-b)**0.5\n",
    "print(dis_ab)"
   ]
  },
  {
   "cell_type": "code",
   "execution_count": 35,
   "metadata": {},
   "outputs": [
    {
     "name": "stdout",
     "output_type": "stream",
     "text": [
      "0.5\n"
     ]
    }
   ],
   "source": [
    "def get_tp_fp_tn_fn(ground_truth, prediction):\n",
    "    if len(ground_truth) == len(prediction) != 0:\n",
    "        tp = 0\n",
    "        fp = 0\n",
    "        tn = 0\n",
    "        fn = 0\n",
    "        for index in range(0, len(ground_truth)):\n",
    "            if ground_truth[index] == 1:\n",
    "                if prediction[index] == 1:\n",
    "                    tp += 1\n",
    "                    continue\n",
    "                else:\n",
    "                    fn += 1\n",
    "                    continue\n",
    "            else:\n",
    "                if prediction[index] == 1:\n",
    "                    fp += 1\n",
    "                    continue\n",
    "                else:\n",
    "                    tn += 1\n",
    "                    continue\n",
    "        return [tp, fp, tn, fn]\n",
    "\n",
    "    return [0, 0, 0, 0]\n",
    "\n",
    "def get_f1_score(ground_truth, prediction):\n",
    "    \"\"\"\n",
    "    calculate the f1 score\n",
    "    :param ground_truth: list like [0, 0, 1, 1]\n",
    "    :param prediction: list like [0, 1, 1, 1]\n",
    "    :return: float the f1 score\n",
    "    \"\"\"\n",
    "    if len(ground_truth) == len(prediction) != 0:\n",
    "        [tp, fp, tn, fn] = get_tp_fp_tn_fn(ground_truth, prediction)\n",
    "        if tp == 0:\n",
    "            return 0\n",
    "        else:\n",
    "            precision = tp / (tp + fp)\n",
    "            recall = tp / (tp + fn)\n",
    "            f1_score = 2 * precision * recall / (precision + recall)\n",
    "            return f1_score\n",
    "\n",
    "    return 0.0\n",
    "\n",
    "p_val = np.array([1, 2, 3, 4, 5, 6])\n",
    "y_pre = np.array([1 if p < 3 else 0 for p in p_val])\n",
    "y_val = np.array([1, 0, 1, 0, 0, 0])\n",
    "f1_score = get_f1_score(y_val, y_pre)\n",
    "\n",
    "print(f1_score)"
   ]
  }
 ],
 "metadata": {
  "kernelspec": {
   "display_name": "Python 3.8.13 ('aienv')",
   "language": "python",
   "name": "python3"
  },
  "language_info": {
   "codemirror_mode": {
    "name": "ipython",
    "version": 3
   },
   "file_extension": ".py",
   "mimetype": "text/x-python",
   "name": "python",
   "nbconvert_exporter": "python",
   "pygments_lexer": "ipython3",
   "version": "3.8.13 (default, Mar 16 2022, 20:38:02) \n[Clang 13.0.0 (clang-1300.0.29.30)]"
  },
  "orig_nbformat": 4,
  "vscode": {
   "interpreter": {
    "hash": "e5f6aa858bf43a6263b3e4e7a86e73c5cea5219fd50582acbb52e14030ac14aa"
   }
  }
 },
 "nbformat": 4,
 "nbformat_minor": 2
}
