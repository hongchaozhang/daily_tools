{
 "cells": [
  {
   "cell_type": "code",
   "execution_count": 1,
   "metadata": {},
   "outputs": [
    {
     "name": "stdout",
     "output_type": "stream",
     "text": [
      "hello\n"
     ]
    }
   ],
   "source": [
    "print('hello')"
   ]
  },
  {
   "cell_type": "code",
   "execution_count": 33,
   "metadata": {},
   "outputs": [
    {
     "name": "stdout",
     "output_type": "stream",
     "text": [
      "{'', 'auth', 'api-docs', 'CustomApp', 'javascript', '*', 'jsp', 'app', 'api', 'mobileSamlLogin', 'ViewNow', 'static', 'health', 'saml', 'hyper', 'admin', 'servlet', 'mobileRedirect'}\n"
     ]
    }
   ],
   "source": [
    "\n",
    "fo = open(\"web.xml\", \"r+\")\n",
    "lines = fo.readlines()\n",
    "\n",
    "# lines = ['<url-pattern>/javascript/embedding-component-alpha.js</url-pattern>']\n",
    "keywords = {''}\n",
    "for line in lines:\n",
    "    keyword1 = '<url-pattern>/'\n",
    "    keyword2 = '</url-pattern>'\n",
    "    if line.find(keyword1) > -1:\n",
    "        start_index = line.find(keyword1)\n",
    "        end_index = line.find(keyword2)\n",
    "        first_slash_index = start_index + len(keyword1)\n",
    "        second_slash_index = line.find('/', first_slash_index, end_index)\n",
    "        # print(line, start_index, end_index, first_slash_index, second_slash_index)\n",
    "        if second_slash_index == -1:\n",
    "            second_slash_index = end_index\n",
    "        if second_slash_index > -1 and first_slash_index > -1 and second_slash_index > first_slash_index:\n",
    "            keyword = line[first_slash_index:second_slash_index]\n",
    "            keywords.add(keyword)\n",
    "            # print(keyword)\n",
    "fo.close()\n",
    "print(keywords)\n",
    "\n"
   ]
  },
  {
   "cell_type": "markdown",
   "metadata": {},
   "source": [
    "['auth', 'api-docs', 'CustomApp', 'javascript', 'jsp', 'app', 'api', 'mobileSamlLogin', 'ViewNow', 'static', 'health', 'saml', 'hyper', 'admin', 'servlet', 'mobileRedirect']"
   ]
  }
 ],
 "metadata": {
  "kernelspec": {
   "display_name": "Python 3.8.13 ('venv_daily_tools': venv)",
   "language": "python",
   "name": "python3"
  },
  "language_info": {
   "codemirror_mode": {
    "name": "ipython",
    "version": 3
   },
   "file_extension": ".py",
   "mimetype": "text/x-python",
   "name": "python",
   "nbconvert_exporter": "python",
   "pygments_lexer": "ipython3",
   "version": "3.8.13 (default, Mar 16 2022, 20:38:02) \n[Clang 13.0.0 (clang-1300.0.29.30)]"
  },
  "orig_nbformat": 4,
  "vscode": {
   "interpreter": {
    "hash": "adedc8d58c37b796c83d01b7d9150c9435145c328f66326f0068a1067cc16a6c"
   }
  }
 },
 "nbformat": 4,
 "nbformat_minor": 2
}
